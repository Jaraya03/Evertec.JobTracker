{
 "cells": [
  {
   "cell_type": "markdown",
   "metadata": {
    "object_type": "Database",
    "urn": "Server[@Name='leo\\LOCALDB#B1953A09']/Database[@Name='Evertec']"
   },
   "source": [
    "# [Evertec]"
   ]
  },
  {
   "cell_type": "code",
   "execution_count": 0,
   "metadata": {
    "object_type": "Database",
    "urn": "Server[@Name='leo\\LOCALDB#B1953A09']/Database[@Name='Evertec']"
   },
   "outputs": [],
   "source": [
    "USE [master]\n",
    "GO\n"
   ]
  },
  {
   "cell_type": "code",
   "execution_count": 0,
   "metadata": {
    "object_type": "Database",
    "urn": "Server[@Name='leo\\LOCALDB#B1953A09']/Database[@Name='Evertec']"
   },
   "outputs": [],
   "source": [
    "/****** Object:  Database [Evertec]    Script Date: 29/10/2025 07:53:17 p. m. ******/\n",
    "CREATE DATABASE [Evertec]\n",
    " CONTAINMENT = NONE\n",
    " ON  PRIMARY \n",
    "( NAME = N'Evertec', FILENAME = N'C:\\Users\\jlap0\\Evertec.mdf' , SIZE = 8192KB , MAXSIZE = UNLIMITED, FILEGROWTH = 65536KB )\n",
    " LOG ON \n",
    "( NAME = N'Evertec_log', FILENAME = N'C:\\Users\\jlap0\\Evertec_log.ldf' , SIZE = 8192KB , MAXSIZE = 2048GB , FILEGROWTH = 65536KB )\n",
    " WITH CATALOG_COLLATION = DATABASE_DEFAULT\n",
    "GO\n",
    "ALTER DATABASE [Evertec] SET COMPATIBILITY_LEVEL = 150\n",
    "GO\n",
    "IF (1 = FULLTEXTSERVICEPROPERTY('IsFullTextInstalled'))\n",
    "begin\n",
    "EXEC [Evertec].[dbo].[sp_fulltext_database] @action = 'enable'\n",
    "end\n",
    "GO\n",
    "ALTER DATABASE [Evertec] SET ANSI_NULL_DEFAULT OFF \n",
    "GO\n",
    "ALTER DATABASE [Evertec] SET ANSI_NULLS OFF \n",
    "GO\n",
    "ALTER DATABASE [Evertec] SET ANSI_PADDING OFF \n",
    "GO\n",
    "ALTER DATABASE [Evertec] SET ANSI_WARNINGS OFF \n",
    "GO\n",
    "ALTER DATABASE [Evertec] SET ARITHABORT OFF \n",
    "GO\n",
    "ALTER DATABASE [Evertec] SET AUTO_CLOSE OFF \n",
    "GO\n",
    "ALTER DATABASE [Evertec] SET AUTO_SHRINK OFF \n",
    "GO\n",
    "ALTER DATABASE [Evertec] SET AUTO_UPDATE_STATISTICS ON \n",
    "GO\n",
    "ALTER DATABASE [Evertec] SET CURSOR_CLOSE_ON_COMMIT OFF \n",
    "GO\n",
    "ALTER DATABASE [Evertec] SET CURSOR_DEFAULT  GLOBAL \n",
    "GO\n",
    "ALTER DATABASE [Evertec] SET CONCAT_NULL_YIELDS_NULL OFF \n",
    "GO\n",
    "ALTER DATABASE [Evertec] SET NUMERIC_ROUNDABORT OFF \n",
    "GO\n",
    "ALTER DATABASE [Evertec] SET QUOTED_IDENTIFIER OFF \n",
    "GO\n",
    "ALTER DATABASE [Evertec] SET RECURSIVE_TRIGGERS OFF \n",
    "GO\n",
    "ALTER DATABASE [Evertec] SET  DISABLE_BROKER \n",
    "GO\n",
    "ALTER DATABASE [Evertec] SET AUTO_UPDATE_STATISTICS_ASYNC OFF \n",
    "GO\n",
    "ALTER DATABASE [Evertec] SET DATE_CORRELATION_OPTIMIZATION OFF \n",
    "GO\n",
    "ALTER DATABASE [Evertec] SET TRUSTWORTHY OFF \n",
    "GO\n",
    "ALTER DATABASE [Evertec] SET ALLOW_SNAPSHOT_ISOLATION OFF \n",
    "GO\n",
    "ALTER DATABASE [Evertec] SET PARAMETERIZATION SIMPLE \n",
    "GO\n",
    "ALTER DATABASE [Evertec] SET READ_COMMITTED_SNAPSHOT OFF \n",
    "GO\n",
    "ALTER DATABASE [Evertec] SET HONOR_BROKER_PRIORITY OFF \n",
    "GO\n",
    "ALTER DATABASE [Evertec] SET RECOVERY SIMPLE \n",
    "GO\n",
    "ALTER DATABASE [Evertec] SET  MULTI_USER \n",
    "GO\n",
    "ALTER DATABASE [Evertec] SET PAGE_VERIFY CHECKSUM  \n",
    "GO\n",
    "ALTER DATABASE [Evertec] SET DB_CHAINING OFF \n",
    "GO\n",
    "ALTER DATABASE [Evertec] SET FILESTREAM( NON_TRANSACTED_ACCESS = OFF ) \n",
    "GO\n",
    "ALTER DATABASE [Evertec] SET TARGET_RECOVERY_TIME = 60 SECONDS \n",
    "GO\n",
    "ALTER DATABASE [Evertec] SET DELAYED_DURABILITY = DISABLED \n",
    "GO\n",
    "ALTER DATABASE [Evertec] SET ACCELERATED_DATABASE_RECOVERY = OFF  \n",
    "GO\n",
    "ALTER DATABASE [Evertec] SET QUERY_STORE = OFF\n",
    "GO\n"
   ]
  },
  {
   "cell_type": "markdown",
   "metadata": {
    "object_type": "Table",
    "urn": "Server[@Name='leo\\LOCALDB#B1953A09']/Database[@Name='Evertec']/Table[@Name='Jobs' and @Schema='dbo']"
   },
   "source": [
    "# [dbo].[Jobs]"
   ]
  },
  {
   "cell_type": "code",
   "execution_count": 0,
   "metadata": {
    "object_type": "Table",
    "urn": "Server[@Name='leo\\LOCALDB#B1953A09']/Database[@Name='Evertec']/Table[@Name='Jobs' and @Schema='dbo']"
   },
   "outputs": [],
   "source": [
    "USE [Evertec]\n",
    "GO\n"
   ]
  },
  {
   "cell_type": "code",
   "execution_count": 0,
   "metadata": {
    "object_type": "Table",
    "urn": "Server[@Name='leo\\LOCALDB#B1953A09']/Database[@Name='Evertec']/Table[@Name='Jobs' and @Schema='dbo']"
   },
   "outputs": [],
   "source": [
    "/****** Object:  Table [dbo].[Jobs]    Script Date: 29/10/2025 07:53:18 p. m. ******/\n",
    "SET ANSI_NULLS ON\n",
    "GO\n",
    "SET QUOTED_IDENTIFIER ON\n",
    "GO\n",
    "CREATE TABLE [dbo].[Jobs](\n",
    "\t[Id] [int] IDENTITY(1,1) NOT NULL,\n",
    "\t[ClientName] [nvarchar](100) NOT NULL,\n",
    "\t[JobName] [nvarchar](100) NOT NULL,\n",
    "\t[Quantity] [int] NOT NULL,\n",
    "\t[Carrier] [nvarchar](50) NULL,\n",
    "\t[CurrentStatus] [nchar](10) NOT NULL,\n",
    "\t[CreatedAt] [datetime2](0) NOT NULL,\n",
    "\t[SLA_MailBy] [datetime2](0) NULL,\n",
    " CONSTRAINT [PK_Jobs] PRIMARY KEY CLUSTERED \n",
    "(\n",
    "\t[Id] ASC\n",
    ")WITH (PAD_INDEX = OFF, STATISTICS_NORECOMPUTE = OFF, IGNORE_DUP_KEY = OFF, ALLOW_ROW_LOCKS = ON, ALLOW_PAGE_LOCKS = ON, OPTIMIZE_FOR_SEQUENTIAL_KEY = OFF) ON [PRIMARY]\n",
    ") ON [PRIMARY]\n",
    "GO\n"
   ]
  },
  {
   "cell_type": "markdown",
   "metadata": {
    "object_type": "Table",
    "urn": "Server[@Name='leo\\LOCALDB#B1953A09']/Database[@Name='Evertec']/Table[@Name='JobStatusHistory' and @Schema='dbo']"
   },
   "source": [
    "# [dbo].[JobStatusHistory]"
   ]
  },
  {
   "cell_type": "code",
   "execution_count": 0,
   "metadata": {
    "object_type": "Table",
    "urn": "Server[@Name='leo\\LOCALDB#B1953A09']/Database[@Name='Evertec']/Table[@Name='JobStatusHistory' and @Schema='dbo']"
   },
   "outputs": [],
   "source": [
    "/****** Object:  Table [dbo].[JobStatusHistory]    Script Date: 29/10/2025 07:53:18 p. m. ******/\n",
    "SET ANSI_NULLS ON\n",
    "GO\n",
    "SET QUOTED_IDENTIFIER ON\n",
    "GO\n",
    "CREATE TABLE [dbo].[JobStatusHistory](\n",
    "\t[ID] [int] IDENTITY(1,1) NOT NULL,\n",
    "\t[JobId] [int] NOT NULL,\n",
    "\t[Status] [nchar](10) NOT NULL,\n",
    "\t[Note] [nvarchar](255) NULL,\n",
    "\t[ChangedAt] [datetime] NOT NULL,\n",
    " CONSTRAINT [PK_JobStatusHistory] PRIMARY KEY CLUSTERED \n",
    "(\n",
    "\t[ID] ASC\n",
    ")WITH (PAD_INDEX = OFF, STATISTICS_NORECOMPUTE = OFF, IGNORE_DUP_KEY = OFF, ALLOW_ROW_LOCKS = ON, ALLOW_PAGE_LOCKS = ON, OPTIMIZE_FOR_SEQUENTIAL_KEY = OFF) ON [PRIMARY]\n",
    ") ON [PRIMARY]\n",
    "GO\n"
   ]
  },
  {
   "cell_type": "markdown",
   "metadata": {
    "object_type": "Table",
    "urn": "Server[@Name='leo\\LOCALDB#B1953A09']/Database[@Name='Evertec']/Table[@Name='Status' and @Schema='dbo']"
   },
   "source": [
    "# [dbo].[Status]"
   ]
  },
  {
   "cell_type": "code",
   "execution_count": 0,
   "metadata": {
    "object_type": "Table",
    "urn": "Server[@Name='leo\\LOCALDB#B1953A09']/Database[@Name='Evertec']/Table[@Name='Status' and @Schema='dbo']"
   },
   "outputs": [],
   "source": [
    "/****** Object:  Table [dbo].[Status]    Script Date: 29/10/2025 07:53:18 p. m. ******/\n",
    "SET ANSI_NULLS ON\n",
    "GO\n",
    "SET QUOTED_IDENTIFIER ON\n",
    "GO\n",
    "CREATE TABLE [dbo].[Status](\n",
    "\t[StatusCode] [nvarchar](32) NOT NULL,\n",
    "\t[SortOrder] [int] NOT NULL,\n",
    "\t[IsTerminal] [bit] NOT NULL,\n",
    "PRIMARY KEY CLUSTERED \n",
    "(\n",
    "\t[StatusCode] ASC\n",
    ")WITH (PAD_INDEX = OFF, STATISTICS_NORECOMPUTE = OFF, IGNORE_DUP_KEY = OFF, ALLOW_ROW_LOCKS = ON, ALLOW_PAGE_LOCKS = ON, OPTIMIZE_FOR_SEQUENTIAL_KEY = OFF) ON [PRIMARY]\n",
    ") ON [PRIMARY]\n",
    "GO\n"
   ]
  },
  {
   "cell_type": "markdown",
   "metadata": {
    "object_type": "Default",
    "urn": "Server[@Name='leo\\LOCALDB#B1953A09']/Database[@Name='Evertec']/Table[@Name='Jobs' and @Schema='dbo']/Column[@Name='CurrentStatus']/Default[@Name='DF_Jobs_Status']"
   },
   "source": [
    "# [DF_Jobs_Status]"
   ]
  },
  {
   "cell_type": "code",
   "execution_count": 0,
   "metadata": {
    "object_type": "Default",
    "urn": "Server[@Name='leo\\LOCALDB#B1953A09']/Database[@Name='Evertec']/Table[@Name='Jobs' and @Schema='dbo']/Column[@Name='CurrentStatus']/Default[@Name='DF_Jobs_Status']"
   },
   "outputs": [],
   "source": [
    "ALTER TABLE [dbo].[Jobs] ADD  CONSTRAINT [DF_Jobs_Status]  DEFAULT (N'Received') FOR [CurrentStatus]\n",
    "GO\n"
   ]
  },
  {
   "cell_type": "markdown",
   "metadata": {
    "object_type": "Default",
    "urn": "Server[@Name='leo\\LOCALDB#B1953A09']/Database[@Name='Evertec']/Table[@Name='Jobs' and @Schema='dbo']/Column[@Name='CreatedAt']/Default[@Name='DF_Jobs_Created']"
   },
   "source": [
    "# [DF_Jobs_Created]"
   ]
  },
  {
   "cell_type": "code",
   "execution_count": 0,
   "metadata": {
    "object_type": "Default",
    "urn": "Server[@Name='leo\\LOCALDB#B1953A09']/Database[@Name='Evertec']/Table[@Name='Jobs' and @Schema='dbo']/Column[@Name='CreatedAt']/Default[@Name='DF_Jobs_Created']"
   },
   "outputs": [],
   "source": [
    "ALTER TABLE [dbo].[Jobs] ADD  CONSTRAINT [DF_Jobs_Created]  DEFAULT (sysutcdatetime()) FOR [CreatedAt]\n",
    "GO\n"
   ]
  },
  {
   "cell_type": "markdown",
   "metadata": {
    "object_type": "Default",
    "urn": "Server[@Name='leo\\LOCALDB#B1953A09']/Database[@Name='Evertec']/Table[@Name='JobStatusHistory' and @Schema='dbo']/Column[@Name='ChangedAt']/Default[@Name='DF_JSH_ChangedAt']"
   },
   "source": [
    "# [DF_JSH_ChangedAt]"
   ]
  },
  {
   "cell_type": "code",
   "execution_count": 0,
   "metadata": {
    "object_type": "Default",
    "urn": "Server[@Name='leo\\LOCALDB#B1953A09']/Database[@Name='Evertec']/Table[@Name='JobStatusHistory' and @Schema='dbo']/Column[@Name='ChangedAt']/Default[@Name='DF_JSH_ChangedAt']"
   },
   "outputs": [],
   "source": [
    "ALTER TABLE [dbo].[JobStatusHistory] ADD  CONSTRAINT [DF_JSH_ChangedAt]  DEFAULT (sysdatetime()) FOR [ChangedAt]\n",
    "GO\n"
   ]
  },
  {
   "cell_type": "markdown",
   "metadata": {
    "object_type": "Default",
    "urn": "Server[@Name='leo\\LOCALDB#B1953A09']/Database[@Name='Evertec']/Table[@Name='Status' and @Schema='dbo']/Column[@Name='IsTerminal']/Default[@Name='DF__Status__IsTermin__49C3F6B7']"
   },
   "source": [
    "# [DF__Status__IsTermin__49C3F6B7]"
   ]
  },
  {
   "cell_type": "code",
   "execution_count": 0,
   "metadata": {
    "object_type": "Default",
    "urn": "Server[@Name='leo\\LOCALDB#B1953A09']/Database[@Name='Evertec']/Table[@Name='Status' and @Schema='dbo']/Column[@Name='IsTerminal']/Default[@Name='DF__Status__IsTermin__49C3F6B7']"
   },
   "outputs": [],
   "source": [
    "ALTER TABLE [dbo].[Status] ADD  DEFAULT ((0)) FOR [IsTerminal]\n",
    "GO\n"
   ]
  },
  {
   "cell_type": "markdown",
   "metadata": {
    "object_type": "ForeignKey",
    "urn": "Server[@Name='leo\\LOCALDB#B1953A09']/Database[@Name='Evertec']/Table[@Name='JobStatusHistory' and @Schema='dbo']/ForeignKey[@Name='FK_JobStatusHistory_Jobs']"
   },
   "source": [
    "# [FK_JobStatusHistory_Jobs]"
   ]
  },
  {
   "cell_type": "code",
   "execution_count": 0,
   "metadata": {
    "object_type": "ForeignKey",
    "urn": "Server[@Name='leo\\LOCALDB#B1953A09']/Database[@Name='Evertec']/Table[@Name='JobStatusHistory' and @Schema='dbo']/ForeignKey[@Name='FK_JobStatusHistory_Jobs']"
   },
   "outputs": [],
   "source": [
    "ALTER TABLE [dbo].[JobStatusHistory]  WITH CHECK ADD  CONSTRAINT [FK_JobStatusHistory_Jobs] FOREIGN KEY([JobId])\n",
    "REFERENCES [dbo].[Jobs] ([Id])\n",
    "GO\n",
    "ALTER TABLE [dbo].[JobStatusHistory] CHECK CONSTRAINT [FK_JobStatusHistory_Jobs]\n",
    "GO\n"
   ]
  },
  {
   "cell_type": "markdown",
   "metadata": {
    "object_type": "Database",
    "urn": "Server[@Name='leo\\LOCALDB#B1953A09']/Database[@Name='Evertec']"
   },
   "source": [
    "# [Evertec]"
   ]
  },
  {
   "cell_type": "code",
   "execution_count": 0,
   "metadata": {
    "object_type": "Database",
    "urn": "Server[@Name='leo\\LOCALDB#B1953A09']/Database[@Name='Evertec']"
   },
   "outputs": [],
   "source": [
    "USE [master]\n",
    "GO\n"
   ]
  },
  {
   "cell_type": "code",
   "execution_count": 0,
   "metadata": {
    "object_type": "Database",
    "urn": "Server[@Name='leo\\LOCALDB#B1953A09']/Database[@Name='Evertec']"
   },
   "outputs": [],
   "source": [
    "ALTER DATABASE [Evertec] SET  READ_WRITE \n",
    "GO\n"
   ]
  },
  {
   "cell_type": "markdown",
   "metadata": {},
   "source": [
    "[Entries for Tables]"
   ]
  },
  {
   "cell_type": "markdown",
   "metadata": {},
   "source": []
  },
  {
   "cell_type": "code",
   "execution_count": null,
   "metadata": {},
   "outputs": [],
   "source": [
    "    INSERT INTO dbo.Status (StatusCode, SortOrder, IsTerminal) VALUES\n",
    "(N'Received',    0, 0),\n",
    "(N'Printing',    1, 0 ),\n",
    "(N'Inserting', 2, 0 ),\n",
    "(N'Mailed', 3, 0 ),\n",
    "(N'Delivered',  4, 1 )"
   ]
  },
  {
   "cell_type": "code",
   "execution_count": null,
   "metadata": {},
   "outputs": [],
   "source": [
    "INSERT INTO dbo.Jobs\n",
    "    (ClientName, JobName, Quantity, Carrier, CurrentStatus, CreatedAt, SLA_MailBy)\n",
    "VALUES\n",
    "(N'ACME',     N'BatchA',  500, N'UPS',   N'Received',        '2025-10-01 08:30:00', '2025-10-02 17:00:00'),\n",
    "(N'Globex',   N'BatchB', 1200, N'FedEx', N'Printing', '2025-10-02 09:15:00', '2025-10-04 17:00:00'),\n",
    "(N'Initech',  N'BatchC',  300, N'DHL',   N'Inserting',       '2025-10-03 10:00:00', '2025-10-05 17:00:00'),\n",
    "(N'Umbrella', N'BatchD',  800, N'USPS',  N'Received',        '2025-10-04 11:20:00', '2025-10-06 17:00:00'),\n",
    "(N'Soylent',  N'BatchE', 1500, N'UPS',   N'Printing', '2025-10-05 07:45:00', '2025-10-07 17:00:00'),\n",
    "(N'StarkInd', N'BatchF',  200, N'FedEx', N'Delivered',       '2025-10-06 13:10:00', '2025-10-06 17:00:00'),\n",
    "(N'WayneEnt', N'BatchG',   50, N'DHL',   N'NeReceivedw',        '2025-10-07 08:05:00', '2025-10-08 17:00:00'),\n",
    "(N'Oscorp',   N'BatchH',  400, N'USPS',  N'Inserting',       '2025-10-08 15:30:00', '2025-10-10 17:00:00'),\n",
    "(N'Tyrell',   N'BatchI',  700, N'UPS',   N'Printing', '2025-10-09 09:00:00', '2025-10-11 17:00:00'),\n",
    "(N'Cyberdyne',N'BatchJ',  100, N'FedEx', N'Received',        '2025-10-10 16:40:00', '2025-10-12 17:00:00');"
   ]
  }
 ],
 "metadata": {
  "kernel_spec": {
   "display_name": "SQL",
   "language": "sql",
   "name": "SQL"
  },
  "language_info": {
   "name": "sql",
   "version": ""
  }
 },
 "nbformat": 4,
 "nbformat_minor": 2
}
